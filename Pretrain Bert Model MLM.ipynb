{
 "cells": [
  {
   "cell_type": "markdown",
   "id": "48cde9f7-cf94-4c69-8b34-a5f72c58024e",
   "metadata": {},
   "source": [
    "# Pretraining (Masked LM + NSP)\n",
    "\n",
    "## PROCESS OVERVIEW\n",
    "\n",
    "\n",
    "\n",
    "| Step | Penjelasan                           | Status |\n",
    "| :--: | :----------------------------------- | :----: |\n",
    "|   1  | Bangun Mini-BERT Stack               |    ✅   |\n",
    "|   2  | Pretraining (Masked LM + NSP)        |   NOW   |\n",
    "|   3  | Fine-tuning ke task spesifik         |   🔜   |\n",
    "|   4  | Buat dataset dummy buat latihan      |   🔜   |\n",
    "|   5  | Build mindset & intuition level dewa |   🔜   |\n",
    "\n",
    "---\n",
    "\n",
    "INTI :\n",
    "\n",
    "- Input: Token yang di-mask sebagian + sepasang kalimat\n",
    "- Target 1: Isi kata yang di-mask\n",
    "- Target 2: Apakah kalimat kedua nyambung?\n",
    "\n",
    "HOW? :\n",
    "\n",
    "- Tokenisasi kalimat ➔ jadi token ID\n",
    "\n",
    "- Tambahin [CLS] di awal, [SEP] antar kalimat\n",
    "\n",
    "- Tambahin Positional Encoding kayak biasa\n",
    "\n",
    "- Random pilih token buat di-[MASK] (sekitar 15% token)\n",
    "\n",
    "- Masukin ke Mini-BERT stack - model kita\n",
    "\n",
    "- Output 1: Prediksi isi token yang ketutup\n",
    "\n",
    "- Output 2: Prediksi label NSP (IsNext / NotNext)\n",
    "\n",
    "\n",
    "\n",
    "\n",
    "| Misi                              | Tujuan                         | Gampangnya                                     |\n",
    "| :-------------------------------- | :----------------------------- | :--------------------------------------------- |\n",
    "| 1. Masked Language Model (MLM)    | Belajar isi kata yang hilang   | Tebak kata yang ketutupan                      |\n",
    "| 2. Next Sentence Prediction (NSP) | Belajar hubungan antar kalimat | Tebak apakah kalimat kedua nyambung atau ngaco |\n",
    "\n",
    "\n",
    "---"
   ]
  },
  {
   "cell_type": "markdown",
   "id": "3a45eea8-0591-4067-b90d-c1141e3d5614",
   "metadata": {},
   "source": [
    "# MLM : MASK LANGUAGE MODEL\n",
    "\n",
    "\n",
    "## INTUITION\n",
    "\n",
    "- Belajar isi kata yang hilang, tutup beberapa kata dalam kalimat\n",
    "- Tebak kata yang ketutupan , suruh bert nebak itu\n",
    "- Kalimat asli:\n",
    "- \"Saya makan nasi di warung.\"\n",
    "\n",
    "- Setelah masking:\n",
    "- \"Saya [MASK] nasi di [MASK].\"\n",
    "\n",
    "- Tugas BERT:\n",
    "- Tebak [MASK] = \"makan\", [MASK] = \"warung\"\n",
    "\n",
    "\n",
    "## PROCESS\n",
    "\n",
    "1. Input :\n",
    "\n",
    "- c = ['kucing bermain di taman']\n",
    "\n",
    "- t = ['kucing', 'bermain', 'di', 'taman']\n",
    "\n",
    "\n",
    "2. Special Token :\n",
    "\n",
    "- ['[CLS]', 'kucing', 'bermain', 'di', 'taman', '[SEP]']\n",
    "\n",
    "\n",
    "3. Masking 15% Input :\n",
    "\n",
    "- ['[CLS]', 'kucing', '[MASK]', 'di', 'taman', '[SEP]']\n",
    "\n",
    "4. Pretrain Model with this Approach :\n",
    "\n",
    "- Input : ['[CLS]', 'kucing', '[MASK]', 'di', 'taman', '[SEP]']\n",
    "  \n",
    "- Embedding (token embedding + positional embedding),\n",
    "  \n",
    "- Stack Encoder stack (MHA ➔ AddNorm ➔ FFN ➔ AddNorm),\n",
    "\n",
    "- keluar tensor representasi semua token.\n",
    "\n",
    "\n",
    "## PSEUDOCODE\n",
    "\n",
    "    # pretraining bert for mlm\n",
    "    initialize bert model with random weight\n",
    "\n",
    "    def apply mask (tokens):\n",
    "        for i in range (len token):\n",
    "            if random < 0.15:\n",
    "                if random < 0.8:\n",
    "                    tokens[i] = [mask]\n",
    "                elif random < 0.9:\n",
    "                    token[i] = random_token()\n",
    "                else:\n",
    "                    token[i] = token[i]\n",
    "                lebel[i] = original token\n",
    "            else:\n",
    "                label[i] = [ignore]\n",
    "\n",
    "        return tokens, label\n",
    "    \n",
    "    for each epoch:\n",
    "        for each batch in training data :\n",
    "        # 1. tokenize\n",
    "        input token = tokenize(batch)\n",
    "\n",
    "        # 2. masking\n",
    "        mask input, label = apply mask (input token)\n",
    "\n",
    "        # 3. feed forward bert\n",
    "        output = bertmodel(mask input)\n",
    "\n",
    "        # 4. training, loss \n",
    "        loss = cross entropy(output[mask position], labels[mask position])\n",
    "\n",
    "        # 5. backpropagation or update parameter\n",
    "        loss.backward()\n",
    "        optimizer.step()\n",
    "        optimizer.zero grad()\n",
    "\n",
    "\n",
    "## EXAMPLE\n",
    "\n",
    "1. Input : ['[CLS]', 'singa', 'berlari', 'cepat', '[SEP]']\n",
    "\n",
    "2. Mask :['[CLS]', 'singa', '[MASK]', 'cepat', '[SEP]']\n",
    "\n",
    "3. Embedding :\n",
    "\n",
    "- [CLS]:  [0.1, 0.2]\n",
    "\n",
    "- singa:  [0.5, 0.4]\n",
    "\n",
    "- [MASK]: [0.0, 0.0]  (karena belum tahu)\n",
    "\n",
    "- cepat:  [0.3, 0.7]\n",
    "\n",
    "- [SEP]:  [0.1, 0.2]\n",
    "\n",
    "\n",
    "4. BERT Model :\n",
    "\n",
    "- MHA ➔ AddNorm\n",
    "\n",
    "- FFN ➔ AddNorm\n",
    "\n",
    "- [MASK]: [0.48, 0.45]\n",
    "\n",
    "\n",
    "5. Loss :\n",
    "\n",
    "- Vocab :\n",
    "{\n",
    "  'singa':  [0.5, 0.4],\n",
    "  'berlari': [0.48, 0.45],\n",
    "  'cepat': [0.3, 0.7],\n",
    "  'makan': [0.7, 0.2]\n",
    "}\n",
    "\n",
    "- Similarity\n",
    "\n",
    "- ke 'singa' ➔ 0.48×0.5 + 0.45×0.4 = 0.24 + 0.18 = 0.42\n",
    "\n",
    "- ke 'berlari' ➔ 0.48×0.48 + 0.45×0.45 = 0.2304 + 0.2025 = 0.4329\n",
    "\n",
    "- ke 'cepat' ➔ 0.48×0.3 + 0.45×0.7 = 0.144 + 0.315 = 0.459\n",
    "\n",
    "- ke 'makan' ➔ 0.48×0.7 + 0.45×0.2 = 0.336 + 0.09 = 0.426\n",
    "\n",
    "\n",
    "---\n"
   ]
  },
  {
   "cell_type": "markdown",
   "id": "5aa36960",
   "metadata": {},
   "source": [
    "## PYTHON CODE IMPLEMENTATION OF PRETRAIN BERT MODEL\n",
    "\n",
    "src = https://www.101ai.net/text/bert\n",
    "\n"
   ]
  },
  {
   "cell_type": "markdown",
   "id": "8ed39225-2666-465f-8b9a-798ee265751d",
   "metadata": {},
   "source": [
    "### Data"
   ]
  },
  {
   "cell_type": "code",
   "execution_count": 275,
   "id": "2c122dc3-6300-4260-b60d-819581c433ba",
   "metadata": {},
   "outputs": [
    {
     "data": {
      "text/plain": [
       "['[CLS]', 'i', 'like', 'playing', 'pussies', '[MASK]', '[SEP]']"
      ]
     },
     "execution_count": 275,
     "metadata": {},
     "output_type": "execute_result"
    }
   ],
   "source": [
    "import numpy as np\n",
    "\n",
    "corpus = 'i like playing pussies'\n",
    "vocab = corpus.split()\n",
    "vocab.insert(0, '[CLS]')\n",
    "vocab.extend(['[MASK]', '[SEP]'])\n",
    "vocab"
   ]
  },
  {
   "cell_type": "code",
   "execution_count": 276,
   "id": "75401d71-61cd-4975-bd71-dde58d201483",
   "metadata": {},
   "outputs": [
    {
     "name": "stdout",
     "output_type": "stream",
     "text": [
      "{'[CLS]': 0, 'i': 1, 'like': 2, 'playing': 3, 'pussies': 4, '[MASK]': 5, '[SEP]': 6}\n",
      "\n",
      "{0: '[CLS]', 1: 'i', 2: 'like', 3: 'playing', 4: 'pussies', 5: '[MASK]', 6: '[SEP]'}\n"
     ]
    }
   ],
   "source": [
    "token2idx = {}\n",
    "idx2token = {}\n",
    "\n",
    "for idx, token in enumerate(vocab):\n",
    "    token2idx[token] = idx\n",
    "    idx2token[idx] = token\n",
    "\n",
    "print(token2idx)\n",
    "print()\n",
    "print(idx2token)"
   ]
  },
  {
   "cell_type": "code",
   "execution_count": 277,
   "id": "9ad4fbf1-44c9-4b0a-b7d8-5d65d593613e",
   "metadata": {},
   "outputs": [
    {
     "name": "stdout",
     "output_type": "stream",
     "text": [
      "{'[CLS]': 0, 'i': 1, 'like': 2, 'playing': 3, 'pussies': 4, '[MASK]': 5, '[SEP]': 6}\n",
      "\n",
      "{0: '[CLS]', 1: 'i', 2: 'like', 3: 'playing', 4: 'pussies', 5: '[MASK]', 6: '[SEP]'}\n"
     ]
    }
   ],
   "source": [
    "token2idx = {token : idx for idx, token in enumerate(vocab)}\n",
    "idx2token = {idx : token for token, idx in token2idx.items()}\n",
    "\n",
    "print(token2idx)\n",
    "print()\n",
    "print(idx2token)"
   ]
  },
  {
   "cell_type": "markdown",
   "id": "6f1af2f1",
   "metadata": {},
   "source": [
    "### Mask and Tokenize"
   ]
  },
  {
   "cell_type": "code",
   "execution_count": 278,
   "id": "ede030ef",
   "metadata": {},
   "outputs": [
    {
     "data": {
      "text/plain": [
       "['[CLS]', 'i', 'like', '[MASK]', 'pussies', '[SEP]']"
      ]
     },
     "execution_count": 278,
     "metadata": {},
     "output_type": "execute_result"
    }
   ],
   "source": [
    "tokens = corpus.split()\n",
    "tokens.insert(0, '[CLS]')\n",
    "tokens.append('[SEP]')\n",
    "tokens[tokens.index('playing')] = '[MASK]'\n",
    "tokens"
   ]
  },
  {
   "cell_type": "code",
   "execution_count": 279,
   "id": "5a9b0a47",
   "metadata": {},
   "outputs": [
    {
     "data": {
      "text/plain": [
       "[0, 1, 2, 5, 4, 6]"
      ]
     },
     "execution_count": 279,
     "metadata": {},
     "output_type": "execute_result"
    }
   ],
   "source": [
    "token_ids = [token2idx[t] for t in tokens]\n",
    "token_ids"
   ]
  },
  {
   "cell_type": "markdown",
   "id": "015b03cf-fb2f-4c36-8752-a8d449c6c25c",
   "metadata": {},
   "source": [
    "### Embedding"
   ]
  },
  {
   "cell_type": "code",
   "execution_count": 283,
   "id": "768ffdbd-2559-4eda-9ce0-318d3c9e79ad",
   "metadata": {},
   "outputs": [
    {
     "data": {
      "text/plain": [
       "array([[0.03745401, 0.09507143, 0.07319939, 0.05986585],\n",
       "       [0.01560186, 0.01559945, 0.00580836, 0.08661761],\n",
       "       [0.0601115 , 0.07080726, 0.00205845, 0.09699099],\n",
       "       [0.08324426, 0.02123391, 0.0181825 , 0.01834045],\n",
       "       [0.03042422, 0.05247564, 0.0431945 , 0.02912291],\n",
       "       [0.06118529, 0.01394939, 0.02921446, 0.03663618],\n",
       "       [0.045607  , 0.0785176 , 0.01996738, 0.05142344]])"
      ]
     },
     "execution_count": 283,
     "metadata": {},
     "output_type": "execute_result"
    }
   ],
   "source": [
    "scale = 0.1\n",
    "d_model = 4\n",
    "\n",
    "np.random.seed(42)\n",
    "embed_matrix = np.random.rand(len(vocab), d_model) * scale\n",
    "embed_matrix"
   ]
  },
  {
   "cell_type": "code",
   "execution_count": 286,
   "id": "dff6cda4-93e9-47dd-900d-53dbe4824cbd",
   "metadata": {},
   "outputs": [
    {
     "name": "stdout",
     "output_type": "stream",
     "text": [
      "Token: [CLS]\n",
      "ID   : 0\n",
      "Embed: [0.03745401 0.09507143 0.07319939 0.05986585]\n",
      "\n",
      "Token: i\n",
      "ID   : 1\n",
      "Embed: [0.01560186 0.01559945 0.00580836 0.08661761]\n",
      "\n",
      "Token: like\n",
      "ID   : 2\n",
      "Embed: [0.0601115  0.07080726 0.00205845 0.09699099]\n",
      "\n",
      "Token: [MASK]\n",
      "ID   : 5\n",
      "Embed: [0.06118529 0.01394939 0.02921446 0.03663618]\n",
      "\n",
      "Token: pussies\n",
      "ID   : 4\n",
      "Embed: [0.03042422 0.05247564 0.0431945  0.02912291]\n",
      "\n",
      "Token: [SEP]\n",
      "ID   : 6\n",
      "Embed: [0.045607   0.0785176  0.01996738 0.05142344]\n",
      "\n"
     ]
    }
   ],
   "source": [
    "embed_matrixs = []\n",
    "for token, its_id in zip(tokens, token_ids):\n",
    "    print(f\"Token: {token}\")\n",
    "    print(f\"ID   : {its_id}\")\n",
    "    print(f\"Embed: {embed_matrix[its_id]}\\n\")\n",
    "    embed_matrixs.append(embed_matrix[its_id])"
   ]
  },
  {
   "cell_type": "code",
   "execution_count": null,
   "id": "66c75039-b2ab-402c-9b28-d4cf3b8b07d2",
   "metadata": {},
   "outputs": [],
   "source": []
  },
  {
   "cell_type": "markdown",
   "id": "6c5e6dd4-a9a3-4c73-a67b-26c1bc6e6512",
   "metadata": {},
   "source": [
    "### Positional Encoding"
   ]
  },
  {
   "cell_type": "code",
   "execution_count": 154,
   "id": "73af26bb-7edc-44ec-a3ac-e49c1bbe11e5",
   "metadata": {},
   "outputs": [
    {
     "data": {
      "text/plain": [
       "(array([[0],\n",
       "        [1],\n",
       "        [2],\n",
       "        [3],\n",
       "        [4],\n",
       "        [5],\n",
       "        [6]]),\n",
       " array([1, 2, 3]))"
      ]
     },
     "execution_count": 154,
     "metadata": {},
     "output_type": "execute_result"
    }
   ],
   "source": [
    "len_ids = len(token_ids) + 1\n",
    "\n",
    "pos = np.arange(len_ids).reshape(len_ids,1)\n",
    "i = np.arange(1,d_model)\n",
    "\n",
    "pos, i"
   ]
  },
  {
   "cell_type": "code",
   "execution_count": 155,
   "id": "e0492996-14ba-4fc8-8b30-f8cd97dac472",
   "metadata": {},
   "outputs": [
    {
     "name": "stdout",
     "output_type": "stream",
     "text": [
      "[1.   0.01 0.01]\n",
      "\n",
      "[[0.   0.   0.  ]\n",
      " [1.   0.01 0.01]\n",
      " [2.   0.02 0.02]\n",
      " [3.   0.03 0.03]\n",
      " [4.   0.04 0.04]\n",
      " [5.   0.05 0.05]\n",
      " [6.   0.06 0.06]]\n"
     ]
    }
   ],
   "source": [
    "angle_rates = 1 / np.power(10000, (2*(i//2))/4)\n",
    "angle_rads = pos * angle_rates\n",
    "\n",
    "\n",
    "print(angle_rates)\n",
    "print()\n",
    "print(angle_rads)"
   ]
  },
  {
   "cell_type": "code",
   "execution_count": 156,
   "id": "cd880391-590c-4c76-952e-9a70fc3dfba7",
   "metadata": {},
   "outputs": [
    {
     "data": {
      "text/plain": [
       "array([[0., 0., 0., 0.],\n",
       "       [0., 0., 0., 0.],\n",
       "       [0., 0., 0., 0.],\n",
       "       [0., 0., 0., 0.],\n",
       "       [0., 0., 0., 0.],\n",
       "       [0., 0., 0., 0.],\n",
       "       [0., 0., 0., 0.]])"
      ]
     },
     "execution_count": 156,
     "metadata": {},
     "output_type": "execute_result"
    }
   ],
   "source": [
    "pos_encoding = np.zeros((len_ids, d_model))\n",
    "pos_encoding"
   ]
  },
  {
   "cell_type": "code",
   "execution_count": 157,
   "id": "7d483d7c-be82-4c10-805b-5af22033fea6",
   "metadata": {},
   "outputs": [
    {
     "data": {
      "text/plain": [
       "array([[ 0.        ,  0.        ,  0.        ,  0.        ],\n",
       "       [ 0.84147098,  0.        ,  0.00999983,  0.        ],\n",
       "       [ 0.90929743,  0.        ,  0.01999867,  0.        ],\n",
       "       [ 0.14112001,  0.        ,  0.0299955 ,  0.        ],\n",
       "       [-0.7568025 ,  0.        ,  0.03998933,  0.        ],\n",
       "       [-0.95892427,  0.        ,  0.04997917,  0.        ],\n",
       "       [-0.2794155 ,  0.        ,  0.05996401,  0.        ]])"
      ]
     },
     "execution_count": 157,
     "metadata": {},
     "output_type": "execute_result"
    }
   ],
   "source": [
    "pos_encoding[:, 0::2] = np.sin(angle_rads[:, 0::2])\n",
    "pos_encoding"
   ]
  },
  {
   "cell_type": "code",
   "execution_count": 158,
   "id": "c57eed14-2645-41af-afa1-7672e01b9407",
   "metadata": {},
   "outputs": [
    {
     "data": {
      "text/plain": [
       "array([[ 0.        ,  1.        ,  0.        ,  1.        ],\n",
       "       [ 0.84147098,  0.99995   ,  0.00999983,  0.99995   ],\n",
       "       [ 0.90929743,  0.99980001,  0.01999867,  0.99980001],\n",
       "       [ 0.14112001,  0.99955003,  0.0299955 ,  0.99955003],\n",
       "       [-0.7568025 ,  0.99920011,  0.03998933,  0.99920011],\n",
       "       [-0.95892427,  0.99875026,  0.04997917,  0.99875026],\n",
       "       [-0.2794155 ,  0.99820054,  0.05996401,  0.99820054]])"
      ]
     },
     "execution_count": 158,
     "metadata": {},
     "output_type": "execute_result"
    }
   ],
   "source": [
    "pos_encoding[:, 1::2] = np.cos(angle_rads[:, 1::2])\n",
    "pos_encoding"
   ]
  },
  {
   "cell_type": "code",
   "execution_count": 159,
   "id": "98057786-82dd-4062-92d6-682830337ddb",
   "metadata": {},
   "outputs": [
    {
     "data": {
      "text/plain": [
       "(7, 7)"
      ]
     },
     "execution_count": 159,
     "metadata": {},
     "output_type": "execute_result"
    }
   ],
   "source": [
    "len(pos_encoding), len(embed_matrix)"
   ]
  },
  {
   "cell_type": "code",
   "execution_count": 173,
   "id": "ca70555b-fc06-43f2-a55c-c7184a7f4736",
   "metadata": {},
   "outputs": [
    {
     "data": {
      "text/plain": [
       "(7, 4)"
      ]
     },
     "execution_count": 173,
     "metadata": {},
     "output_type": "execute_result"
    }
   ],
   "source": [
    "input_embedding = pos_encoding + embed_matrix\n",
    "input_embedding.shape"
   ]
  },
  {
   "cell_type": "markdown",
   "id": "d6ca1f0b-c947-4af9-addb-f2d7da0ce469",
   "metadata": {},
   "source": [
    "### Single Head Self Attention"
   ]
  },
  {
   "cell_type": "code",
   "execution_count": 162,
   "id": "bc0860eb-45bf-4479-b46f-780bc175f959",
   "metadata": {},
   "outputs": [
    {
     "data": {
      "text/plain": [
       "(array([[0.05488135, 0.07151894, 0.06027634, 0.05448832],\n",
       "        [0.04236548, 0.06458941, 0.04375872, 0.0891773 ],\n",
       "        [0.09636628, 0.03834415, 0.0791725 , 0.05288949],\n",
       "        [0.05680446, 0.09255966, 0.00710361, 0.00871293]]),\n",
       " array([[0.00202184, 0.08326198, 0.07781568, 0.08700121],\n",
       "        [0.09786183, 0.07991586, 0.04614794, 0.07805292],\n",
       "        [0.01182744, 0.0639921 , 0.01433533, 0.09446689],\n",
       "        [0.05218483, 0.04146619, 0.02645556, 0.07742337]]),\n",
       " array([[0.04561503, 0.05684339, 0.00187898, 0.06176355],\n",
       "        [0.06120957, 0.0616934 , 0.09437481, 0.06818203],\n",
       "        [0.03595079, 0.0437032 , 0.06976312, 0.00602255],\n",
       "        [0.06667667, 0.06706379, 0.02103826, 0.01289263]]))"
      ]
     },
     "execution_count": 162,
     "metadata": {},
     "output_type": "execute_result"
    }
   ],
   "source": [
    "scale = 0.1\n",
    "\n",
    "np.random.seed(0)\n",
    "wq = np.random.rand(d_model, d_model) * scale\n",
    "wk = np.random.rand(d_model, d_model) * scale\n",
    "wv = np.random.rand(d_model, d_model) * scale\n",
    "\n",
    "wq, wk, wv"
   ]
  },
  {
   "cell_type": "code",
   "execution_count": 163,
   "id": "d10dc673-527a-404c-a61d-28016b4f653e",
   "metadata": {},
   "outputs": [
    {
     "data": {
      "text/plain": [
       "(array([[0.11570781, 0.17431629, 0.06350076, 0.11280234],\n",
       "        [0.15330681, 0.22806917, 0.10507048, 0.14756769],\n",
       "        [0.16298744, 0.24084536, 0.11481831, 0.15901818],\n",
       "        [0.11802287, 0.17804107, 0.06923712, 0.11467291],\n",
       "        [0.07111957, 0.11434816, 0.01612724, 0.06756573],\n",
       "        [0.06008054, 0.10007597, 0.00382696, 0.05460329],\n",
       "        [0.10010996, 0.1530406 , 0.04680717, 0.09665181]]),\n",
       " array([[0.16341611, 0.13926485, 0.08253848, 0.17770537],\n",
       "        [0.15800572, 0.19858751, 0.14253159, 0.23945205],\n",
       "        [0.16422831, 0.21316464, 0.15417394, 0.2549047 ],\n",
       "        [0.15403768, 0.14554889, 0.09218564, 0.18255487],\n",
       "        [0.15609701, 0.07152962, 0.02040638, 0.10636492],\n",
       "        [0.15225769, 0.05418453, 0.00540283, 0.08858406],\n",
       "        [0.16061672, 0.11521838, 0.06040859, 0.15251566]]),\n",
       " array([[0.14203722, 0.14396536, 0.13082188, 0.09108279],\n",
       "        [0.17427378, 0.18493184, 0.12141502, 0.136282  ],\n",
       "        [0.18367438, 0.19567282, 0.1274732 , 0.14714367],\n",
       "        [0.14231772, 0.14609838, 0.12153355, 0.09687009],\n",
       "        [0.10279453, 0.09619028, 0.12532413, 0.04060045],\n",
       "        [0.09291971, 0.0843443 , 0.12119402, 0.02742617],\n",
       "        [0.1280993 , 0.12702095, 0.12883427, 0.07298579]]))"
      ]
     },
     "execution_count": 163,
     "metadata": {},
     "output_type": "execute_result"
    }
   ],
   "source": [
    "q = input_embedding @ wq\n",
    "k = input_embedding @ wk\n",
    "v = input_embedding @ wv\n",
    "\n",
    "q,k,v"
   ]
  },
  {
   "cell_type": "code",
   "execution_count": 177,
   "id": "591734ce-5bb0-4973-b9be-a727bd5cb928",
   "metadata": {},
   "outputs": [],
   "source": [
    "def softmax(x):\n",
    "    ex = np.exp(x - np.max(x, axis=-1, keepdims=True))\n",
    "    return(ex/np.sum(ex, axis=-1, keepdims=True))"
   ]
  },
  {
   "cell_type": "code",
   "execution_count": 178,
   "id": "b7b52fb2-4be2-4d19-8e24-612b3efcb0cf",
   "metadata": {},
   "outputs": [
    {
     "name": "stdout",
     "output_type": "stream",
     "text": [
      "qk.shape : (7, 7)\n"
     ]
    },
    {
     "data": {
      "text/plain": [
       "array([[0.03423574, 0.04448057, 0.04735229, 0.03482069, 0.02191223,\n",
       "        0.01869911, 0.02985458],\n",
       "       [0.04585538, 0.05991315, 0.06380421, 0.04671772, 0.02904229,\n",
       "        0.02466989, 0.03987747],\n",
       "       [0.04895569, 0.06401215, 0.06817167, 0.04988756, 0.03096321,\n",
       "        0.0262865 , 0.04255855],\n",
       "       [0.03508721, 0.04566608, 0.04861999, 0.03570521, 0.02238414,\n",
       "        0.01907461, 0.03057099],\n",
       "       [0.02044234, 0.02621141, 0.02788203, 0.02070975, 0.01339828,\n",
       "        0.01154839, 0.01793853],\n",
       "       [0.01688718, 0.02149362, 0.02285412, 0.01707075, 0.01121138,\n",
       "        0.00971398, 0.01486978],\n",
       "       [0.02935585, 0.03801244, 0.04045859, 0.0298274 , 0.01890467,\n",
       "        0.01617482, 0.02564045]])"
      ]
     },
     "execution_count": 178,
     "metadata": {},
     "output_type": "execute_result"
    }
   ],
   "source": [
    "qk = (q@k.T)/(d_model)**0.5\n",
    "\n",
    "print(f\"qk.shape : {qk.shape}\")\n",
    "qk"
   ]
  },
  {
   "cell_type": "code",
   "execution_count": 179,
   "id": "7d4ccdb8-84ba-436a-8e27-148f0cb842bc",
   "metadata": {},
   "outputs": [
    {
     "data": {
      "text/plain": [
       "array([[0.14301958, 0.14449232, 0.14490786, 0.14310327, 0.14126789,\n",
       "        0.14081471, 0.14239436],\n",
       "       [0.14307103, 0.14509649, 0.14566217, 0.14319446, 0.14068567,\n",
       "        0.14007188, 0.14221831],\n",
       "       [0.1430844 , 0.14525505, 0.1458605 , 0.1432178 , 0.14053298,\n",
       "        0.13987728, 0.14217199],\n",
       "       [0.14302337, 0.14454443, 0.14497203, 0.14311179, 0.14121803,\n",
       "        0.14075144, 0.14237891],\n",
       "       [0.14295627, 0.14378338, 0.14402379, 0.1429945 , 0.14195282,\n",
       "        0.14169046, 0.14259878],\n",
       "       [0.14293958, 0.14359954, 0.14379504, 0.14296582, 0.14213058,\n",
       "        0.14191792, 0.14265151],\n",
       "       [0.14299747, 0.14424072, 0.14459398, 0.14306492, 0.14151076,\n",
       "        0.14112499, 0.14246716]])"
      ]
     },
     "execution_count": 179,
     "metadata": {},
     "output_type": "execute_result"
    }
   ],
   "source": [
    "scores = softmax(qk)\n",
    "scores"
   ]
  },
  {
   "cell_type": "code",
   "execution_count": 183,
   "id": "9457292b-2aad-4d13-ade3-031f844e3d3c",
   "metadata": {},
   "outputs": [
    {
     "name": "stdout",
     "output_type": "stream",
     "text": [
      "scores.shape : (7, 7)\n",
      "\n",
      "output.shape : (7, 4)\n"
     ]
    },
    {
     "data": {
      "text/plain": [
       "array([[0.13832397, 0.14012537, 0.1252328 , 0.08789334],\n",
       "       [0.13843667, 0.1402644 , 0.12523444, 0.08804333],\n",
       "       [0.13846624, 0.14030088, 0.12523488, 0.08808268],\n",
       "       [0.1383336 , 0.14013725, 0.12523293, 0.08790617],\n",
       "       [0.13819153, 0.13996198, 0.12523083, 0.08771708],\n",
       "       [0.13815719, 0.13991961, 0.12523032, 0.08767138],\n",
       "       [0.13827699, 0.14006741, 0.1252321 , 0.08783082]])"
      ]
     },
     "execution_count": 183,
     "metadata": {},
     "output_type": "execute_result"
    }
   ],
   "source": [
    "attn_output = scores @ v\n",
    "\n",
    "print(f\"scores.shape : {scores.shape}\")\n",
    "print()\n",
    "print(f\"output.shape : {attn_output.shape}\")\n",
    "attn_output"
   ]
  },
  {
   "cell_type": "markdown",
   "id": "d94032d8-c50f-4980-aea1-145f221b5349",
   "metadata": {},
   "source": [
    "### Add and Norm\n"
   ]
  },
  {
   "cell_type": "code",
   "execution_count": 184,
   "id": "ee473c8e-e531-4984-97c5-f6d0b10009a8",
   "metadata": {},
   "outputs": [
    {
     "data": {
      "text/plain": [
       "array([[ 0.17577798,  1.2351968 ,  0.19843219,  1.14775919],\n",
       "       [ 0.99550951,  1.15581385,  0.14104264,  1.17461094],\n",
       "       [ 1.10787516,  1.21090815,  0.14729199,  1.18487367],\n",
       "       [ 0.36269787,  1.1609212 ,  0.17341092,  1.10579665],\n",
       "       [-0.58818674,  1.19163773,  0.20841467,  1.1160401 ],\n",
       "       [-0.7595818 ,  1.15261926,  0.20442396,  1.12305782],\n",
       "       [-0.09553151,  1.21678555,  0.20516349,  1.13745481]])"
      ]
     },
     "execution_count": 184,
     "metadata": {},
     "output_type": "execute_result"
    }
   ],
   "source": [
    "def norm(x):\n",
    "    eps = 1e-6\n",
    "    avg = np.mean(x, axis=-1, keepdims=True)\n",
    "    std = np.std(x, axis=-1, keepdims=True)\n",
    "    return (x - avg)/(std+eps)\n",
    "\n",
    "add = attn_output + input_embedding\n",
    "add"
   ]
  },
  {
   "cell_type": "code",
   "execution_count": 187,
   "id": "913242b9-78da-48fd-9684-ffe440fd9fb7",
   "metadata": {},
   "outputs": [
    {
     "data": {
      "text/plain": [
       "(array([[-1.02049228,  1.08486346, -0.97547215,  0.91110096],\n",
       "        [ 0.30317234,  0.68060205, -1.70863337,  0.72485899],\n",
       "        [ 0.43994389,  0.67223463, -1.72571771,  0.61353918],\n",
       "        [-0.77130081,  1.05016158, -1.20323389,  0.92437312],\n",
       "        [-1.46799378,  0.97347617, -0.3752577 ,  0.86977531],\n",
       "        [-1.51444963,  0.91969673, -0.28731345,  0.88206635],\n",
       "        [-1.24426519,  1.05070511, -0.71841202,  0.9119721 ]]),\n",
       " (7, 4))"
      ]
     },
     "execution_count": 187,
     "metadata": {},
     "output_type": "execute_result"
    }
   ],
   "source": [
    "norm_output = norm(add)\n",
    "norm_output, norm_output.shape"
   ]
  },
  {
   "cell_type": "markdown",
   "id": "a31fde40-36ac-461b-9594-1bb68cd3f6ab",
   "metadata": {},
   "source": [
    "### FFN"
   ]
  },
  {
   "cell_type": "code",
   "execution_count": 203,
   "id": "5cab9f76-3e83-4f9d-b90a-27a0707c01da",
   "metadata": {},
   "outputs": [
    {
     "data": {
      "text/plain": [
       "((4, 8),\n",
       " array([[4.17022005e-02, 7.20324493e-02, 1.14374817e-05, 3.02332573e-02,\n",
       "         1.46755891e-02, 9.23385948e-03, 1.86260211e-02, 3.45560727e-02],\n",
       "        [3.96767474e-02, 5.38816734e-02, 4.19194514e-02, 6.85219500e-02,\n",
       "         2.04452250e-02, 8.78117436e-02, 2.73875932e-03, 6.70467510e-02],\n",
       "        [4.17304802e-02, 5.58689828e-02, 1.40386939e-02, 1.98101489e-02,\n",
       "         8.00744569e-02, 9.68261576e-02, 3.13424178e-02, 6.92322616e-02],\n",
       "        [8.76389152e-02, 8.94606664e-02, 8.50442114e-03, 3.90547832e-03,\n",
       "         1.69830420e-02, 8.78142503e-02, 9.83468338e-03, 4.21107625e-02]]),\n",
       " (8,),\n",
       " array([0., 0., 0., 0., 0., 0., 0., 0.]),\n",
       " (8, 4),\n",
       " array([[0.09578895, 0.05331653, 0.06918771, 0.03155156],\n",
       "        [0.06865009, 0.08346257, 0.00182883, 0.07501443],\n",
       "        [0.09888611, 0.07481657, 0.0280444 , 0.07892793],\n",
       "        [0.0103226 , 0.04478935, 0.09085955, 0.02936141],\n",
       "        [0.02877753, 0.01300286, 0.0019367 , 0.06788355],\n",
       "        [0.02116281, 0.02655467, 0.04915732, 0.00533625],\n",
       "        [0.05741176, 0.01467286, 0.05893055, 0.06997584],\n",
       "        [0.01023344, 0.0414056 , 0.06944002, 0.04141793]]),\n",
       " (4,),\n",
       " array([0., 0., 0., 0.]))"
      ]
     },
     "execution_count": 203,
     "metadata": {},
     "output_type": "execute_result"
    }
   ],
   "source": [
    "scale = 0.1\n",
    "d_ff = 8\n",
    "\n",
    "np.random.seed(1)\n",
    "wx = np.random.rand(d_model, d_ff) * scale\n",
    "bx = np.zeros(d_ff,) \n",
    "wc = np.random.rand(d_ff, d_model) * scale\n",
    "bc = np.zeros(d_model,)\n",
    "\n",
    "wx.shape, wx, bx.shape, bx, wc.shape, wc, bc.shape, bc"
   ]
  },
  {
   "cell_type": "code",
   "execution_count": 204,
   "id": "5658e4fe-5531-48eb-8be7-44879bb6b4db",
   "metadata": {},
   "outputs": [
    {
     "data": {
      "text/plain": [
       "(array([[ 0.03962806,  0.01195476,  0.03951924,  0.02771819, -0.05543318,\n",
       "          0.0713971 , -0.0376498 ,  0.00830538],\n",
       "        [ 0.03187079,  0.02789698,  0.01071146,  0.02478471, -0.10614328,\n",
       "         -0.03922315, -0.03891304, -0.03165959],\n",
       "        [ 0.02677359,  0.02638489,  0.00917571,  0.0275732 , -0.10756572,\n",
       "         -0.05012466, -0.03801871, -0.03336486],\n",
       "        [ 0.04030158,  0.01649736,  0.0349828 ,  0.02841406, -0.07049814,\n",
       "          0.04976305, -0.04011147, -0.00061975],\n",
       "        [ 0.03797228,  0.00355475,  0.0429196 ,  0.01828523, -0.01691786,\n",
       "          0.1119713 , -0.02788429,  0.02518728],\n",
       "        [ 0.0386483 ,  0.00332362,  0.04200382,  0.01498584, -0.01144833,\n",
       "          0.1164145 , -0.0260196 ,  0.02658237],\n",
       "        [ 0.03974453,  0.00843496,  0.04170098,  0.02370801, -0.03881681,\n",
       "          0.09129795, -0.03384589,  0.016116  ]]),\n",
       " (7, 8))"
      ]
     },
     "execution_count": 204,
     "metadata": {},
     "output_type": "execute_result"
    }
   ],
   "source": [
    "ff1 = norm_output @ wx + bx\n",
    "ff1, ff1.shape"
   ]
  },
  {
   "cell_type": "code",
   "execution_count": 205,
   "id": "a76b45bb-32d4-484d-80a8-fdbd78b0692e",
   "metadata": {},
   "outputs": [
    {
     "data": {
      "text/plain": [
       "(array([[0.03962806, 0.01195476, 0.03951924, 0.02771819, 0.        ,\n",
       "         0.0713971 , 0.        , 0.00830538],\n",
       "        [0.03187079, 0.02789698, 0.01071146, 0.02478471, 0.        ,\n",
       "         0.        , 0.        , 0.        ],\n",
       "        [0.02677359, 0.02638489, 0.00917571, 0.0275732 , 0.        ,\n",
       "         0.        , 0.        , 0.        ],\n",
       "        [0.04030158, 0.01649736, 0.0349828 , 0.02841406, 0.        ,\n",
       "         0.04976305, 0.        , 0.        ],\n",
       "        [0.03797228, 0.00355475, 0.0429196 , 0.01828523, 0.        ,\n",
       "         0.1119713 , 0.        , 0.02518728],\n",
       "        [0.0386483 , 0.00332362, 0.04200382, 0.01498584, 0.        ,\n",
       "         0.1164145 , 0.        , 0.02658237],\n",
       "        [0.03974453, 0.00843496, 0.04170098, 0.02370801, 0.        ,\n",
       "         0.09129795, 0.        , 0.016116  ]]),\n",
       " (7, 8))"
      ]
     },
     "execution_count": 205,
     "metadata": {},
     "output_type": "execute_result"
    }
   ],
   "source": [
    "ff2 = np.maximum(0,ff1)\n",
    "ff2, ff2.shape"
   ]
  },
  {
   "cell_type": "code",
   "execution_count": 206,
   "id": "4a591169-686b-4ea2-ac9e-097e97ffb535",
   "metadata": {},
   "outputs": [
    {
     "data": {
      "text/plain": [
       "(array([[0.01040661, 0.00954859, 0.01047681, 0.00680511],\n",
       "        [0.00628306, 0.00593908, 0.00480841, 0.0046714 ],\n",
       "        [0.00556792, 0.00555111, 0.00466327, 0.0043578 ],\n",
       "        [0.00979874, 0.00873703, 0.00882752, 0.00637006],\n",
       "        [0.01094164, 0.01036757, 0.01275197, 0.00702989],\n",
       "        [0.01097422, 0.01034379, 0.01278815, 0.00694622],\n",
       "        [0.01085157, 0.01009651, 0.01169589, 0.0070289 ]]),\n",
       " (7, 4))"
      ]
     },
     "execution_count": 206,
     "metadata": {},
     "output_type": "execute_result"
    }
   ],
   "source": [
    "ff3 = ff2 @ wc + bc\n",
    "ff3, ff3.shape"
   ]
  },
  {
   "cell_type": "markdown",
   "id": "fc75e7c6-7cc5-4f13-91b0-cffd3832106b",
   "metadata": {},
   "source": [
    "### Mask Prediction"
   ]
  },
  {
   "cell_type": "code",
   "execution_count": 216,
   "id": "379e0dfc-ca92-4094-a67b-17e28b21c47e",
   "metadata": {},
   "outputs": [
    {
     "data": {
      "text/plain": [
       "(3, '->', array([0.00979874, 0.00873703, 0.00882752, 0.00637006]))"
      ]
     },
     "execution_count": 216,
     "metadata": {},
     "output_type": "execute_result"
    }
   ],
   "source": [
    "mask_id = tokens.index('[MASK]')\n",
    "mask_vector =  ff3[mask]\n",
    "a = '->'\n",
    "\n",
    "mask_id, a, mask_vector"
   ]
  },
  {
   "cell_type": "code",
   "execution_count": 217,
   "id": "0639cda6-0d87-4f9f-9137-d1ec7c7af5dc",
   "metadata": {},
   "outputs": [
    {
     "data": {
      "text/plain": [
       "array([0.08324426, 0.02123391, 0.0181825 , 0.01834045])"
      ]
     },
     "execution_count": 217,
     "metadata": {},
     "output_type": "execute_result"
    }
   ],
   "source": [
    "embed_matrix[mask_id]"
   ]
  },
  {
   "cell_type": "code",
   "execution_count": 253,
   "id": "8f5b6e67-592e-4bc1-a307-916a7f90a2f8",
   "metadata": {},
   "outputs": [
    {
     "data": {
      "text/plain": [
       "array([0.00222516, 0.0008922 , 0.00184367, 0.00127855, 0.00132342,\n",
       "       0.00121268, 0.00163674])"
      ]
     },
     "execution_count": 253,
     "metadata": {},
     "output_type": "execute_result"
    }
   ],
   "source": [
    "scores = embed_matrix @ mask_vector\n",
    "scores"
   ]
  },
  {
   "cell_type": "code",
   "execution_count": 247,
   "id": "9e4ff3a9-b2a8-4066-ad4e-d89f0299c33e",
   "metadata": {},
   "outputs": [
    {
     "data": {
      "text/plain": [
       "0"
      ]
     },
     "execution_count": 247,
     "metadata": {},
     "output_type": "execute_result"
    }
   ],
   "source": [
    "mask_id_predicted = np.argmax(scores)\n",
    "mask_id_predicted"
   ]
  },
  {
   "cell_type": "code",
   "execution_count": 224,
   "id": "0244434e-fbf6-4591-930d-5c57caf249f3",
   "metadata": {},
   "outputs": [
    {
     "data": {
      "text/plain": [
       "'[CLS]'"
      ]
     },
     "execution_count": 224,
     "metadata": {},
     "output_type": "execute_result"
    }
   ],
   "source": [
    "predicted_token = idx2token[mask_id_predicted]\n",
    "predicted_token"
   ]
  },
  {
   "cell_type": "code",
   "execution_count": 242,
   "id": "2796037f-7b47-4c47-9dca-e740ed744783",
   "metadata": {},
   "outputs": [
    {
     "name": "stdout",
     "output_type": "stream",
     "text": [
      "mask_y_origin = playing\n",
      "d_origin = 3\n",
      "mask_y_pred = [CLS]\n",
      "d_origin = 0\n"
     ]
    }
   ],
   "source": [
    "print(f'mask_y_origin = {idx2token[3]}')\n",
    "print(f'd_origin = {token2idx['playing']}')\n",
    "print(f'mask_y_pred = {idx2token[mask_id_predicted]}')\n",
    "print(f'd_origin = {token2idx[predicted_token]}')"
   ]
  },
  {
   "cell_type": "markdown",
   "id": "d10bfb3f-1b34-4dcd-b1ab-042ab4fac18a",
   "metadata": {},
   "source": [
    "### Training & Pretraining BERT"
   ]
  },
  {
   "cell_type": "code",
   "execution_count": null,
   "id": "b20ce665-d188-4b95-95e0-98ac7da8f248",
   "metadata": {},
   "outputs": [],
   "source": [
    "def data(corpus):\n",
    "    vocab = corpus.split()\n",
    "    vocab.insert(0, '[CLS]')\n",
    "    vocab.extend(['[SEP]', '[MASK]'])\n",
    "    return vocab\n",
    "\n",
    "def tokennizer(vocab):\n",
    "    token2idx = {}\n",
    "    idx2token = {}\n",
    "    for idx, token in enumerate(vocab):\n",
    "        token2idx[token] = idx\n",
    "        idx2token[idx] = token\n",
    "    return token2idx, idx2token\n",
    "\n",
    "def masking(corpus):\n",
    "    tokens = corpus.split()\n",
    "    tokens.insert(0, '[CLS]')\n",
    "    tokens.extend(['[SEP]', '[MASK]'])\n",
    "    labels = 'playing'\n",
    "    tokens[tokens.index(labels)] = '[MASK]'\n",
    "    return tokens\n",
    "\n",
    "def token_ids(tokens, token2idx):\n",
    "    token_ids = []\n",
    "    for token in tokens:\n",
    "        token_ids.append(token2idx[token])\n",
    "    return token_ids, len(token_ids)\n",
    "\n",
    "def embedding(scale, d_model, vocab_size):\n",
    "    np.random.seed(42)\n",
    "    embed_matrix = np.random.rand(vocab_size, d_model) * scale\n",
    "    return embed_matrix\n",
    "\n",
    "def position_embedding(seq_len, d_model):\n",
    "    pos = np.arange(seq_len).reshape(seq_len,1)\n",
    "    i = np.arange(d_model)\n",
    "    angle_rates = 1 / np.power(10000, (2 * (i//2)) / np.float32(d_model))\n",
    "    angle_rads = pos * angle_rates\n",
    "    pe = np.zeros((seq_len, d_model))\n",
    "    pe[:, 0::2] = np.sin(angle_rads[:, 0::2])\n",
    "    pe[:, 1::2] = np.cos(angle_rads[:, 1::2])\n",
    "    \n",
    "    return pe\n",
    "\n",
    "def embedding_output(embed_matrix, position_embedding):\n",
    "    return embed_matrix + position_embedding\n",
    "\n",
    "\n",
    "def attention_weights(d_model):\n",
    "    Wq = np.random.randn(d_model, d_model) * 0.01\n",
    "    Wk = np.random.randn(d_model, d_model) * 0.01\n",
    "    Wv = np.random.randn(d_model, d_model) * 0.01\n",
    "\n",
    "    return Wq, Wk, Wv\n",
    "\n",
    "def attention_output(x, Wq, Wk, Wv):\n",
    "    Q = x @ Wq\n",
    "    K = x @ Wk\n",
    "    V = x @ Wv\n",
    "    d_k = Q.shape[-1]\n",
    "    scaled = np.matmul(Q, K.transpose()) / np.sqrt(d_k)\n",
    "    softmax = np.exp(scaled) / np.sum(np.exp(scaled), axis=-1, keepdims=True)\n",
    "\n",
    "    return np.matmul(softmax, V)\n",
    "\n",
    "def add_and_norm(x, attention_output):\n",
    "    eps = 1e1\n",
    "    avg = np.mean(x, axis=-1, keepdims=True)\n",
    "    std = np.std(x, axis=-1, keepdims=True)\n",
    "    norm = (x - avg) / (std + eps)\n",
    "    norm_output = attention_output + norm\n",
    "    return norm_output\n",
    "    \n",
    "def ffn_weights(d_model, d_ff):\n",
    "    W1 = np.random.randn(d_model, d_ff) * 0.01\n",
    "    W2 = np.random.randn(d_ff, d_model) * 0.01\n",
    "    return W1, W2\n",
    "\n",
    "def ffn_output(norm_output, W1, W2):\n",
    "    ffn_output = np.matmul(norm_output, W1)\n",
    "    relu = np.maximum(0, ffn_output)\n",
    "    ffn_output = np.matmul(relu, W2)\n",
    "    return ffn_output\n",
    "\n",
    "def initialize_model(d_model, d_ff, vocab_size):\n",
    "    Wq, Wk, Wv = attention_weights(d_model)\n",
    "    W1, W2 = ffn_weights(d_model, d_ff)\n",
    "    embed_matrix = embedding(0.01, d_model, vocab_size)\n",
    "    W_output = np.random.randn(d_model, vocab_size) * 0.01\n",
    "    b_output = np.zeros(vocab_size)\n",
    "    return {\n",
    "        'Wq': Wq, 'Wk': Wk, 'Wv': Wv,\n",
    "        'W1': W1, 'W2': W2,\n",
    "        'embed_matrix': embed_matrix,\n",
    "        'W_output': W_output,\n",
    "        'b_output': b_output\n",
    "    }\n",
    "\n",
    "def forward_pass(token_ids_input, seq_len, model_params, d_model, vocab_size):\n",
    "    input_matrix = np.zeros((seq_len, len(model_params['embed_matrix'])))\n",
    "    for i, token_id in enumerate(token_ids_input):\n",
    "        input_matrix[i,token_id] = 1\n",
    "    \n",
    "    token_embeds = input_matrix @ model_params['embed_matrix']\n",
    "    position_embeds = position_embedding(seq_len, d_model)\n",
    "    embed_output = token_embeds + position_embeds\n",
    "\n",
    "    attn_output = attention_output(embed_output, model_params['Wq'], model_params['Wk'], model_params['Wv'])\n",
    "    norm_output = add_and_norm(embed_output, attn_output)\n",
    "    ffn_out = ffn_output(norm_output, model_params['W1'], model_params['W2'])\n",
    "    ffn_norm_output = add_and_norm(norm_output, ffn_out)\n",
    "\n",
    "    logits = ffn_norm_output @ model_params['W_output'] + model_params['b_output']\n",
    "\n",
    "    probs = np.exp(logits) / np.sum(np.exp(logits), axis=-1, keepdims=True)\n",
    "\n",
    "    return probs, ffn_norm_output\n",
    "\n",
    "def loss(probs, target_token_id, mask_id):\n",
    "    mask_probs = probs[mask_id]\n",
    "    loss = -np.log(mask_probs[target_token_id] + 1e-10)\n",
    "    return loss\n",
    "\n",
    "def backward_propagation(loss, probs, target_token_id, ffn_norm_output, model_params, token_ids, mask_id, lr = 0.01):\n",
    "    d_W_output = np.zeros_like(model_params['W_output'])\n",
    "    d_b_output = np.zeros_like(model_params['b_output'])\n",
    "    \n",
    "    d_probs = np.zeros_like(probs[mask_id])\n",
    "    d_probs[target_token_id] = -1.0 / (probs[mask_id, target_token_id] + 1e-10)\n",
    "    \n",
    "    d_logits = probs[mask_id] * d_probs\n",
    "    \n",
    "    d_W_output += np.outer(ffn_norm_output[mask_id], d_logits)\n",
    "    d_b_output += d_logits\n",
    "\n",
    "    model_params['W_output'] -= lr * d_W_output\n",
    "    model_params['b_output'] -= lr * d_b_output\n",
    "\n",
    "    return model_params\n",
    "\n",
    "def train(corpus, masked_token, n_epoch=1000):\n",
    "    d_model = 16\n",
    "    d_ff = 64\n",
    "    vocab = data(corpus)\n",
    "    vocab_size = len(vocab)\n",
    "    token2idx, idx2token = tokennizer(vocab)\n",
    "    tokens = masking(corpus)\n",
    "    token_ids_input, seq_len = token_ids(tokens, token2idx)\n",
    "    mask_position = tokens.index('[MASK]')\n",
    "    target_idx = token2idx[masked_token]\n",
    "    model_params = initialize_model(d_model, d_ff, vocab_size)\n",
    "\n",
    "    losses = []\n",
    "    for epoch in range(n_epoch):\n",
    "        probs, ffn_norm_output = forward_pass(token_ids_input, seq_len, model_params, d_model, vocab_size)\n",
    "        loss_value = loss(probs, target_idx, mask_position)\n",
    "        losses.append(loss_value)\n",
    "\n",
    "        model_params = backward_propagation(loss_value, probs, target_idx, ffn_norm_output, model_params, token_ids_input, mask_position, lr=0.01)\n",
    "        \n",
    "        if (epoch+1) % 100 == 0:\n",
    "            print(f\"Epoch {epoch+1}/{n_epoch}, Loss: {loss_value}\")\n",
    "            \n",
    "            predicted_idx = np.argmax(probs[mask_position])\n",
    "            print(f\"Current prediction: {idx2token[predicted_idx]}, Target: {idx2token[target_idx]}\")\n",
    "        \n",
    "    final_probs, _ = forward_pass(token_ids_input, seq_len, model_params, d_model, vocab_size)\n",
    "    predicted_idx = np.argmax(final_probs[mask_position])\n",
    "    print(f\"\\nFinal prediction: {idx2token[predicted_idx]}\")\n",
    "    print(f\"Target token: {idx2token[target_idx]}\")\n",
    "\n",
    "    return model_params, losses\n",
    "\n"
   ]
  },
  {
   "cell_type": "markdown",
   "id": "a182f30a",
   "metadata": {},
   "source": [
    "### Example usage"
   ]
  },
  {
   "cell_type": "code",
   "execution_count": 19,
   "id": "dfe983b0",
   "metadata": {},
   "outputs": [
    {
     "name": "stdout",
     "output_type": "stream",
     "text": [
      "Epoch 100/1000, Loss: 1.172138435984383\n",
      "Current prediction: playing, Target: playing\n",
      "Epoch 200/1000, Loss: 0.5986236559714424\n",
      "Current prediction: playing, Target: playing\n",
      "Epoch 300/1000, Loss: 0.26343283764108266\n",
      "Current prediction: playing, Target: playing\n",
      "Epoch 400/1000, Loss: 0.10510549875063911\n",
      "Current prediction: playing, Target: playing\n",
      "Epoch 500/1000, Loss: 0.0399453123607979\n",
      "Current prediction: playing, Target: playing\n",
      "Epoch 600/1000, Loss: 0.014874921157401296\n",
      "Current prediction: playing, Target: playing\n",
      "Epoch 700/1000, Loss: 0.005495596474284142\n",
      "Current prediction: playing, Target: playing\n",
      "Epoch 800/1000, Loss: 0.002024366211864502\n",
      "Current prediction: playing, Target: playing\n",
      "Epoch 900/1000, Loss: 0.0007448811100152392\n",
      "Current prediction: playing, Target: playing\n",
      "Epoch 1000/1000, Loss: 0.0002739738687511122\n",
      "Current prediction: playing, Target: playing\n",
      "\n",
      "Final prediction: playing\n",
      "Target token: playing\n",
      "Epoch 100/1000, Loss: 1.1721182086090887\n",
      "Current prediction: playing, Target: playing\n",
      "Epoch 200/1000, Loss: 0.5985814833798626\n",
      "Current prediction: playing, Target: playing\n",
      "Epoch 300/1000, Loss: 0.2633962587107392\n",
      "Current prediction: playing, Target: playing\n",
      "Epoch 400/1000, Loss: 0.10508332372401549\n",
      "Current prediction: playing, Target: playing\n",
      "Epoch 500/1000, Loss: 0.03993409085088801\n",
      "Current prediction: playing, Target: playing\n",
      "Epoch 600/1000, Loss: 0.014869740539243847\n",
      "Current prediction: playing, Target: playing\n",
      "Epoch 700/1000, Loss: 0.0054933210867531435\n",
      "Current prediction: playing, Target: playing\n",
      "Epoch 800/1000, Loss: 0.002023396561166326\n",
      "Current prediction: playing, Target: playing\n",
      "Epoch 900/1000, Loss: 0.0007444762179714657\n",
      "Current prediction: playing, Target: playing\n",
      "Epoch 1000/1000, Loss: 0.000273807299509835\n",
      "Current prediction: playing, Target: playing\n",
      "\n",
      "Final prediction: playing\n",
      "Target token: playing\n"
     ]
    },
    {
     "data": {
      "image/png": "[encoded data removed]",
      "text/plain": [
       "<Figure size 1000x500 with 1 Axes>"
      ]
     },
     "metadata": {},
     "output_type": "display_data"
    }
   ],
   "source": [
    "if __name__ == \"__main__\":\n",
    "    corpus = \"he is playing football\"\n",
    "    masked_tokens = 'playing'\n",
    "    model_params, losses = train(corpus, masked_tokens)\n",
    "    \n",
    "    model_params, losses = train(corpus, masked_tokens)\n",
    "    \n",
    "    # Plot loss curve\n",
    "    try:\n",
    "        import matplotlib.pyplot as plt\n",
    "        plt.figure(figsize=(10, 5))\n",
    "        plt.plot(losses)\n",
    "        plt.title('Training Loss')\n",
    "        plt.xlabel('Epochs')\n",
    "        plt.ylabel('Loss')\n",
    "        plt.grid(True)\n",
    "        plt.show()\n",
    "    except ImportError:\n",
    "        print(\"matplotlib not available for plotting losses\")"
   ]
  },
  {
   "cell_type": "code",
   "execution_count": 3,
   "id": "57c946ce",
   "metadata": {},
   "outputs": [
    {
     "name": "stdout",
     "output_type": "stream",
     "text": [
      "tensor([[[-0.0616,  0.4227,  0.6997,  ...,  0.5845,  1.3716, -0.2035],\n",
      "         [ 0.1847, -0.7172, -2.2982,  ...,  0.0445,  0.2430, -1.0782],\n",
      "         [ 0.6057,  1.7098,  0.9696,  ...,  0.2926, -1.3616,  0.2089],\n",
      "         ...,\n",
      "         [-1.1398, -0.1114, -0.4124,  ..., -1.5371,  0.2044,  1.3111],\n",
      "         [-1.0407,  0.6533,  2.1608,  ..., -0.2380,  0.9152,  0.0173],\n",
      "         [-0.8125,  0.0574,  0.0908,  ...,  0.0033, -0.5781, -0.7918]],\n",
      "\n",
      "        [[ 0.0308,  0.7426, -0.6125,  ...,  0.4774, -0.5893, -0.6762],\n",
      "         [-0.9599, -2.6282, -0.6744,  ..., -1.9967,  0.8064,  0.2182],\n",
      "         [-0.1054, -0.7519, -0.3711,  ...,  1.0791, -0.0839,  0.5207],\n",
      "         ...,\n",
      "         [ 0.1840,  1.2665, -1.2350,  ..., -0.0029,  0.0872, -0.4046],\n",
      "         [ 0.7327,  1.2631, -0.5877,  ..., -0.4421, -0.4643, -1.1998],\n",
      "         [-0.2557,  0.0200,  1.9101,  ..., -1.7588, -0.0800, -0.2775]]])\n"
     ]
    }
   ],
   "source": [
    "import torch\n",
    "import math\n",
    "\n",
    "class RotaryEmbedding:\n",
    "    def __init__(self, dim):\n",
    "        inv_freq = 1.0 / (10000 ** (torch.arange(0, dim, 2).float() / dim))\n",
    "        self.inv_freq = inv_freq  # (dim/2,)\n",
    "\n",
    "    def get_angles(self, seq_len, device):\n",
    "        positions = torch.arange(seq_len, device=device).float()  # (seq_len,)\n",
    "        freqs = torch.einsum('i,j->ij', positions, self.inv_freq)  # (seq_len, dim/2)\n",
    "        return freqs  # theta values\n",
    "\n",
    "    def apply(self, x):\n",
    "        # x: (batch, seq_len, dim)\n",
    "        batch, seq_len, dim = x.shape\n",
    "        freqs = self.get_angles(seq_len, x.device)  # (seq_len, dim/2)\n",
    "\n",
    "        # Prepare cos/sin\n",
    "        cos = torch.cos(freqs)[None, :, :].repeat(batch, 1, 1)  # (batch, seq_len, dim/2)\n",
    "        sin = torch.sin(freqs)[None, :, :].repeat(batch, 1, 1)\n",
    "\n",
    "        # Split x into even and odd (x1, x2)\n",
    "        x1 = x[..., ::2]  # even dims\n",
    "        x2 = x[..., 1::2]  # odd dims\n",
    "\n",
    "        # Apply rotation\n",
    "        rotated_x1 = x1 * cos - x2 * sin\n",
    "        rotated_x2 = x1 * sin + x2 * cos\n",
    "\n",
    "        # Merge\n",
    "        x_rotated = torch.stack([rotated_x1, rotated_x2], dim=-1)\n",
    "        return x_rotated.flatten(-2)\n",
    "\n",
    "# Example usage:\n",
    "x = torch.randn(2, 128, 64)  # batch=2, seq_len=128, dim=64\n",
    "rope = RotaryEmbedding(64)\n",
    "out = rope.apply(x)\n",
    "\n",
    "print(out)"
   ]
  },
  {
   "cell_type": "code",
   "execution_count": 4,
   "id": "8df54ad5",
   "metadata": {},
   "outputs": [
    {
     "data": {
      "text/plain": [
       "(tensor([ 1.0000,  0.5000, -0.5000,  2.0000]), tensor([0., 0., 0., 0.]))"
      ]
     },
     "execution_count": 4,
     "metadata": {},
     "output_type": "execute_result"
    }
   ],
   "source": [
    "import math\n",
    "import torch\n",
    "\n",
    "d_model = 4\n",
    "pos = 2  # posisi token ke-2\n",
    "x = torch.tensor([1.0, 0.5, -0.5, 2.0])  # token embedding\n",
    "rotated = torch.zeros_like(x)\n",
    "\n",
    "x, rotated"
   ]
  },
  {
   "cell_type": "code",
   "execution_count": 5,
   "id": "ae5ba544",
   "metadata": {},
   "outputs": [
    {
     "data": {
      "text/plain": [
       "(2.0, 0.02)"
      ]
     },
     "execution_count": 5,
     "metadata": {},
     "output_type": "execute_result"
    }
   ],
   "source": [
    "omega = [1.0, 0.01]\n",
    "theta_0 = pos * omega[0]  # = 2 * 1 = 2 rad\n",
    "theta_1 = pos * omega[1]  # = 2 * 0.01 = 0.02 rad\n",
    "\n",
    "theta_0, theta_1"
   ]
  },
  {
   "cell_type": "code",
   "execution_count": 6,
   "id": "d7eebd91",
   "metadata": {},
   "outputs": [
    {
     "name": "stdout",
     "output_type": "stream",
     "text": [
      "Original (x0,x1): (1.0,0.5)\n",
      "Rotated (x0,x1): (-0.8707955479621887,0.7012239694595337)\n"
     ]
    }
   ],
   "source": [
    "x0, x1 = x[0], x[1]\n",
    "theta = theta_0\n",
    "cos_t = math.cos(theta)\n",
    "sin_t = math.sin(theta)\n",
    "rotated[0] = x0 * cos_t - x1 * sin_t\n",
    "rotated[1] = x0 * sin_t + x1 * cos_t\n",
    "\n",
    "print(f\"Original (x0,x1): ({x0},{x1})\")\n",
    "print(f\"Rotated (x0,x1): ({rotated[0]},{rotated[1]})\")"
   ]
  },
  {
   "cell_type": "code",
   "execution_count": null,
   "id": "dd34e3f8",
   "metadata": {},
   "outputs": [],
   "source": []
  }
 ],
 "metadata": {
  "kernelspec": {
   "display_name": "Python 3 (ipykernel)",
   "language": "python",
   "name": "python3"
  },
  "language_info": {
   "codemirror_mode": {
    "name": "ipython",
    "version": 3
   },
   "file_extension": ".py",
   "mimetype": "text/x-python",
   "name": "python",
   "nbconvert_exporter": "python",
   "pygments_lexer": "ipython3",
   "version": "3.12.3"
  }
 },
 "nbformat": 4,
 "nbformat_minor": 5
}
